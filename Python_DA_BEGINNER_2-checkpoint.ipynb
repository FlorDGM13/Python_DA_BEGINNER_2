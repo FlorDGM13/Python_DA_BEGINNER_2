{
 "cells": [
  {
   "cell_type": "code",
   "execution_count": 1,
   "id": "85035bdc-9865-40cc-a084-484f43384b16",
   "metadata": {},
   "outputs": [
    {
     "name": "stdout",
     "output_type": "stream",
     "text": [
      "['Camello', 'Pascal', 'Serpiente']\n"
     ]
    }
   ],
   "source": [
    "#VARIABLES\n",
    "\n",
    "#nombre de variables de varias palabras\n",
    "\n",
    "#ESTUCHE DE CAMELLO: Es donde cada palabra excepto la primera incia en mayusculas\n",
    "myVariableCamello = 'Camello'\n",
    "\n",
    "#CASO PASCAL: Cada palaba comienza con una letra mayuscula\n",
    "\n",
    "CasoPascal = 'Pascal'\n",
    "\n",
    "#CASO DE LA SERPIENTE: Cada palabra esta separada por un guion bajo\n",
    "caso_serpiente_ejem = 'Serpiente'\n",
    "\n",
    "print([myVariableCamello,CasoPascal,caso_serpiente_ejem])"
   ]
  },
  {
   "cell_type": "code",
   "execution_count": 2,
   "id": "06ba165f-25e6-4018-9ac2-110c648798da",
   "metadata": {},
   "outputs": [
    {
     "name": "stdout",
     "output_type": "stream",
     "text": [
      "orange\n",
      "cherry\n"
     ]
    }
   ],
   "source": [
    "#ASIGNACION DE MULTIPLES VALORES\n",
    "\n",
    "#Muchos valores para multiples variables\n",
    "\n",
    "x,y,z = 'orange','banana','cherry'\n",
    "print(x)\n",
    "#print(y)\n",
    "print(z)"
   ]
  },
  {
   "cell_type": "code",
   "execution_count": 3,
   "id": "d823f0be-6356-4abc-b90d-a8f6ebae9dbe",
   "metadata": {},
   "outputs": [
    {
     "name": "stdout",
     "output_type": "stream",
     "text": [
      "flor flor flor\n",
      "flor\n",
      "flor\n"
     ]
    }
   ],
   "source": [
    "a = b = c = 'flor'\n",
    "print(a,b,c)\n",
    "print(b)\n",
    "print(c)"
   ]
  },
  {
   "cell_type": "code",
   "execution_count": 4,
   "id": "a3d9b772-4cc6-4910-9ab7-8575f8495234",
   "metadata": {},
   "outputs": [
    {
     "name": "stdout",
     "output_type": "stream",
     "text": [
      "kiwi papaya fresa\n",
      "papaya\n",
      "fresa\n"
     ]
    }
   ],
   "source": [
    "#DESEMPAQUETAR UNA COLECCION\n",
    "\"\"\"\n",
    "Si tienes una coleccion de valores en una lista, tupla, etc,. \n",
    "Python te permite extraer los valores en variables a esto se\n",
    "llama desempaquetar \n",
    "\"\"\"\n",
    "\n",
    "frutas = ['kiwi','papaya','fresa']\n",
    "x, y , z = frutas\n",
    "print(x,y,z)\n",
    "print(y)\n",
    "print(z)"
   ]
  },
  {
   "cell_type": "code",
   "execution_count": 5,
   "id": "9e3408c6-70ad-426e-b8a9-c0b14dd9d43f",
   "metadata": {},
   "outputs": [
    {
     "name": "stdout",
     "output_type": "stream",
     "text": [
      "kiwipapayafresa\n"
     ]
    }
   ],
   "source": [
    "print(x + y + z )"
   ]
  },
  {
   "cell_type": "code",
   "execution_count": 6,
   "id": "9ef13cb8-55ef-458a-8f5f-8973908744e7",
   "metadata": {},
   "outputs": [
    {
     "name": "stdout",
     "output_type": "stream",
     "text": [
      "flor 7\n"
     ]
    }
   ],
   "source": [
    "h =7\n",
    "print(a,h)"
   ]
  },
  {
   "cell_type": "code",
   "execution_count": 7,
   "id": "c8b1b395-f6db-4ea9-84f3-0beda62e76cd",
   "metadata": {},
   "outputs": [
    {
     "name": "stdout",
     "output_type": "stream",
     "text": [
      "Pythos is awesome\n"
     ]
    }
   ],
   "source": [
    "#VARIABLES GLOBALES\n",
    "\"\"\"\n",
    "Se crean fuera de una funcion, pueden ser utilizada por todos, \n",
    "tanto dentro como fuera de las funciones\n",
    "\n",
    "\"\"\"\n",
    "\n",
    "#Crea una variables fuera de una funcion y usala dentro de la funcion\n",
    "\n",
    "x = 'awesome'\n",
    "\n",
    "def myfunc():\n",
    "    print(\"Pythos is \" + x)\n",
    "\n",
    "myfunc()"
   ]
  },
  {
   "cell_type": "code",
   "execution_count": 8,
   "id": "4baabd66-5903-4993-9431-f3643ffe0b5d",
   "metadata": {},
   "outputs": [
    {
     "name": "stdout",
     "output_type": "stream",
     "text": [
      "Python is fantastic\n",
      "Python is awesome\n"
     ]
    }
   ],
   "source": [
    "\"\"\"\n",
    "Si creas una variable con el mismo nombre dentro de una funcion, esta variable\n",
    "será local y podra usarse dentro de la función, la variable global con el \n",
    "mismo nombre permanecera como estaba, global y con el valor original\n",
    "\n",
    "\"\"\"\n",
    "#Crear una variable dentro de una funcion, con el mismo nombre de la variable globañ\n",
    "\n",
    "def func1():\n",
    "    x = 'fantastic'\n",
    "    print('Python is '+ x)\n",
    "\n",
    "func1()\n",
    "\n",
    "print('Python is ' + x)"
   ]
  },
  {
   "cell_type": "code",
   "execution_count": 9,
   "id": "9ed42eaf-b65f-4151-8535-1dd50ed451ac",
   "metadata": {},
   "outputs": [
    {
     "name": "stdout",
     "output_type": "stream",
     "text": [
      "python is dificult\n",
      "python is dificult\n"
     ]
    }
   ],
   "source": [
    "#VARIABLE GOLBAL DENTRO DE UNA FUNCION\n",
    "\n",
    "def func2():\n",
    "    global x\n",
    "    x='dificult'\n",
    "    print('python is '+x)\n",
    "\n",
    "func2()\n",
    "print('python is '+x)"
   ]
  },
  {
   "cell_type": "code",
   "execution_count": 10,
   "id": "809afe68-b044-4b57-9595-b50b2141f4d1",
   "metadata": {},
   "outputs": [
    {
     "name": "stdout",
     "output_type": "stream",
     "text": [
      "8\n"
     ]
    }
   ],
   "source": [
    "#NUMERO ALEATORIO\n",
    "\n",
    "\"\"\"\n",
    "Python no tiene una random() funcion para crear un numero aleatorio, pero\n",
    "python tiene un modulo incorporado llamado \"random\" que se puede usar para\n",
    "crear numeros aleatorios\n",
    "\"\"\"\n",
    "#Importar el modulo aleatorio y muestre un numero aleatorio del 1 al 9\n",
    "\n",
    "import random\n",
    "\n",
    "print(random.randrange(1,10))"
   ]
  },
  {
   "cell_type": "code",
   "execution_count": 11,
   "id": "c4d1db89-9740-4c47-9803-25a7f69c8d9d",
   "metadata": {},
   "outputs": [
    {
     "data": {
      "text/plain": [
       "'or Deya'"
      ]
     },
     "execution_count": 11,
     "metadata": {},
     "output_type": "execute_result"
    }
   ],
   "source": [
    "#Obtener el caracter en la poscion 1\n",
    "\n",
    "name = 'Flor Deyanira Galicia Martinez'\n",
    "\n",
    "name[2:9]"
   ]
  },
  {
   "cell_type": "code",
   "execution_count": 12,
   "id": "faf14f71-8869-445a-850d-99a93b5cea9b",
   "metadata": {},
   "outputs": [
    {
     "name": "stdout",
     "output_type": "stream",
     "text": [
      "F\n",
      "l\n",
      "o\n",
      "r\n",
      " \n",
      "D\n",
      "e\n",
      "y\n",
      "a\n",
      "n\n",
      "i\n",
      "r\n",
      "a\n",
      " \n",
      "G\n",
      "a\n",
      "l\n",
      "i\n",
      "c\n",
      "i\n",
      "a\n",
      " \n",
      "M\n",
      "a\n",
      "r\n",
      "t\n",
      "i\n",
      "n\n",
      "e\n",
      "z\n"
     ]
    }
   ],
   "source": [
    "#RECORRER CADENAS\n",
    "\n",
    "for x in name:\n",
    "    print(x)"
   ]
  },
  {
   "cell_type": "code",
   "execution_count": 13,
   "id": "aef9bd0c-75b7-46cd-b74f-1d23302c8e97",
   "metadata": {},
   "outputs": [
    {
     "name": "stdout",
     "output_type": "stream",
     "text": [
      "True\n"
     ]
    }
   ],
   "source": [
    "#Compruebe si galicia esta en la cadena\n",
    "print('Galicia' in name)"
   ]
  },
  {
   "cell_type": "code",
   "execution_count": 14,
   "id": "2b2201ab-494e-4dbd-8197-20e7e34457ba",
   "metadata": {},
   "outputs": [
    {
     "name": "stdout",
     "output_type": "stream",
     "text": [
      "yes, \"Galicia\" esta presente\n"
     ]
    }
   ],
   "source": [
    "#IF\n",
    "if 'Galicia' in name:\n",
    "    print('yes, \"Galicia\" esta presente')"
   ]
  },
  {
   "cell_type": "code",
   "execution_count": 15,
   "id": "a72cf18e-413c-4a49-af79-2ad416f27009",
   "metadata": {},
   "outputs": [
    {
     "name": "stdout",
     "output_type": "stream",
     "text": [
      "True\n"
     ]
    }
   ],
   "source": [
    "print('Samantha'not in name)"
   ]
  },
  {
   "cell_type": "code",
   "execution_count": 16,
   "id": "3836113e-77b7-4631-a854-4e8de9d9fdc4",
   "metadata": {},
   "outputs": [
    {
     "name": "stdout",
     "output_type": "stream",
     "text": [
      "'Samanta' no esta en name\n"
     ]
    }
   ],
   "source": [
    "#if\n",
    "if 'Samanta' not in name:\n",
    "    print(\"'Samanta' no esta en name\")"
   ]
  },
  {
   "cell_type": "code",
   "execution_count": 17,
   "id": "6dedd601-2c68-445d-a112-ca49d651b42d",
   "metadata": {},
   "outputs": [
    {
     "name": "stdout",
     "output_type": "stream",
     "text": [
      "Flor Dey\n"
     ]
    }
   ],
   "source": [
    "#SLICING (Cortar cadenas)\n",
    "\n",
    "#REBANAR\n",
    "print(name[:8])"
   ]
  },
  {
   "cell_type": "code",
   "execution_count": 18,
   "id": "4e775c35-df39-4c8b-9f4e-600993c3d04a",
   "metadata": {},
   "outputs": [
    {
     "data": {
      "text/plain": [
       "'Deyanira Galicia Martinez'"
      ]
     },
     "execution_count": 18,
     "metadata": {},
     "output_type": "execute_result"
    }
   ],
   "source": [
    "#REBANAR HASTA EL FINAL\n",
    "name[5:]"
   ]
  },
  {
   "cell_type": "code",
   "execution_count": 19,
   "id": "d8464e3b-36a0-4433-9163-56f3b41707e2",
   "metadata": {},
   "outputs": [
    {
     "data": {
      "text/plain": [
       "' Martin'"
      ]
     },
     "execution_count": 19,
     "metadata": {},
     "output_type": "execute_result"
    }
   ],
   "source": [
    "#INDEXACION NEGATIVA\n",
    "name[-9:-2]"
   ]
  },
  {
   "cell_type": "code",
   "execution_count": 20,
   "id": "421a22fa-988d-46ff-a31e-282bcfe2ca6b",
   "metadata": {},
   "outputs": [
    {
     "data": {
      "text/plain": [
       "'Deyanira Galicia Ma'"
      ]
     },
     "execution_count": 20,
     "metadata": {},
     "output_type": "execute_result"
    }
   ],
   "source": [
    "name[5:-6]"
   ]
  },
  {
   "cell_type": "code",
   "execution_count": 21,
   "id": "80f703f7-a718-451c-9d4c-807b04c0305c",
   "metadata": {},
   "outputs": [
    {
     "name": "stdout",
     "output_type": "stream",
     "text": [
      "FLOR DEYANIRA GALICIA MARTINEZ\n",
      "flor deyanira galicia martinez\n"
     ]
    }
   ],
   "source": [
    "#UPPER - METODO\n",
    "print(name.upper())\n",
    "#LOWER - METODO\n",
    "print(name.lower())"
   ]
  },
  {
   "cell_type": "code",
   "execution_count": 22,
   "id": "17a7a2c3-045c-479f-acbb-8e4f0383ecf1",
   "metadata": {},
   "outputs": [
    {
     "name": "stdout",
     "output_type": "stream",
     "text": [
      "flord\n",
      "   flord\n"
     ]
    }
   ],
   "source": [
    "#STRIP - Eliminar espacios en blancos (metodo)\n",
    "h ='   flord'\n",
    "print(h.strip())\n",
    "print(h)"
   ]
  },
  {
   "cell_type": "code",
   "execution_count": 23,
   "id": "32789d90-ec22-44dd-bd47-a7d2bc144b2c",
   "metadata": {},
   "outputs": [
    {
     "data": {
      "text/plain": [
       "'FFFlor Deyanira Galicia Martinez'"
      ]
     },
     "execution_count": 23,
     "metadata": {},
     "output_type": "execute_result"
    }
   ],
   "source": [
    "#REPLACE - reemplaza valores (metodo)\n",
    "\n",
    "name.replace('F', 'FFF')\n",
    "#           (Valor a cambiar, new value)"
   ]
  },
  {
   "cell_type": "code",
   "execution_count": 24,
   "id": "dcc65288-5967-4ae2-b75a-94d30b5fb498",
   "metadata": {},
   "outputs": [
    {
     "name": "stdout",
     "output_type": "stream",
     "text": [
      "['flor deyanira', ' galicia martinez']\n"
     ]
    }
   ],
   "source": [
    "#SPLIT - Divide la cadena en subcadenas si encuentra instancias del separador (metodo)\n",
    "\n",
    "name1= 'flor deyanira, galicia martinez'\n",
    "print(name1.split(','))\n"
   ]
  },
  {
   "cell_type": "code",
   "execution_count": 25,
   "id": "e1bef22c-7421-4898-b7b5-f35b6be94aae",
   "metadata": {},
   "outputs": [
    {
     "data": {
      "text/plain": [
       "'El precio es 54.988 pesos mexicanos.'"
      ]
     },
     "execution_count": 25,
     "metadata": {},
     "output_type": "execute_result"
    }
   ],
   "source": [
    "#CADENAS DE FORMATO - MARCADOR DE POSICON\n",
    "\n",
    "\"\"\"\n",
    "Se incluye un modificador agregando (:) seguido de un tipo de formato legal,\n",
    "como .2f que significa un numero d epunto fijo con 2 decimale\n",
    "\"\"\"\n",
    "b = 54.9876543\n",
    "txt = f'El precio es {b:.3f} pesos mexicanos.' # siempre redondea al entero mas cercano\n",
    "txt"
   ]
  },
  {
   "cell_type": "code",
   "execution_count": 26,
   "id": "b00468d5-f357-46fe-b025-e04536408cc9",
   "metadata": {},
   "outputs": [
    {
     "name": "stdout",
     "output_type": "stream",
     "text": [
      "El precios 200 dollars\n"
     ]
    }
   ],
   "source": [
    "#Un marcador de posicion puede contener codigo python, como operaciones matematicas\n",
    "print(f\"El precios {20*10} dollars\")"
   ]
  },
  {
   "cell_type": "code",
   "execution_count": 27,
   "id": "d2aaa05c-8444-425e-972f-4ba292775f1f",
   "metadata": {},
   "outputs": [
    {
     "data": {
      "text/plain": [
       "\"flor 'deyanira' galicia martinez\""
      ]
     },
     "execution_count": 27,
     "metadata": {},
     "output_type": "execute_result"
    }
   ],
   "source": [
    "#INSERTAR CARACTERES NO PERMITIDOS\n",
    "txt = 'flor \\'deyanira\\' galicia martinez'\n",
    "txt"
   ]
  },
  {
   "cell_type": "code",
   "execution_count": 28,
   "id": "4051bd3e-ecc6-46b3-9a72-aa08700150fd",
   "metadata": {},
   "outputs": [
    {
     "name": "stdout",
     "output_type": "stream",
     "text": [
      "Flor deyanira galicia martinez.  - capitalize\n",
      "Flor deyanira galicia martinez.  - casefold\n",
      "                                            flor deyanira galicia martinez.                                               center\n",
      "1   -count\n",
      "True   - endswith\n",
      "True   - endswith\n",
      "-1   - find\n",
      "flor 27.00 galicia  - format\n",
      "flor deyanira galicia martinez.   - format\n",
      "15   - index\n",
      "flor#deyanira#galicia#martinez   - join\n",
      "Flor Deyanira Galicia Martinez           Es mi nombre   -ljust\n",
      "flor    -lstrip\n",
      "Flor Deyxnirx Gxlicix Mxrtinez    -maketrans y translate\n",
      "('Flor Deyanira ', 'Galicia', ' Martinez')   -partition\n",
      "22 -  rfind\n"
     ]
    }
   ],
   "source": [
    "txt = \"flor deyanira galicia martinez.\"\n",
    "#CAPITALIZE - Pone en mayusculas la primera letra de la cadena\n",
    "print(txt.capitalize() + '  - capitalize')\n",
    "\n",
    "#CASEFOLD - convierte todos los elementos de las cadenas en minusculas\n",
    "print(txt.capitalize() + '  - casefold')\n",
    "\n",
    "#CENTER - Regresar una cadena centrada\n",
    "print(txt.center(120) + '  center')\n",
    "\n",
    "#COUNT - Regresa el numero de veces que aparece un valor en la cadena\n",
    "print(txt.count(\"flor\"), '  -count')\n",
    "\n",
    "#ENDSWITH - Comprueba si la cadena termina con un caracter\n",
    "print(txt.endswith(\".\"),'  - endswith')\n",
    "#     endswith(value,start,end)\n",
    "print(txt.endswith(\".\"),'  - endswith')\n",
    "\n",
    "#FIND - Encuentra la primera aparicion del valor especificado, y muestra la posicion si no encuentra valor regresa -1\n",
    "\n",
    "print(txt.find('h'),'  - find')\n",
    "\n",
    "#FORMAT - formatea los valores especificados y los inserta dentro del marcador de posicion de la cadena\n",
    "a = 27 \n",
    "name1 = f'flor {a:.2f} galicia '\n",
    "print(name1 + ' - format')\n",
    "print(txt.format(a='deyanira'),'  - format')\n",
    "txt3='my name is {name}, tengo {age} años'.format(name= 'flor', age= 27)\n",
    "txt3 + ' -format'\n",
    "\n",
    "#INDEX - encuentra la primera aparicion del valor\n",
    "print(name.index(\"a\",14,20),'  - index')\n",
    "#          .index(value,start,end)\n",
    "\n",
    "#JOIN - toma todos los elementos d eun iterable y los une en una cadena\n",
    "# Unir todos los elementos de una tupla en una cadena, utilizando un caracer hast como separador\n",
    "my_tupla = (\"flor\",\"deyanira\",\"galicia\",\"martinez\")\n",
    "x = \"#\".join(my_tupla)\n",
    "print(x, '  - join')\n",
    "\n",
    "#LJUST - Alinea la cadena a la izquierda\n",
    "x =name.ljust(40)\n",
    "print(x, \"Es mi nombre\", '  -ljust')\n",
    "\n",
    "#LSTRIP - Elimina los espacios a la izquierda de la cadena\n",
    "y = '          flor '\n",
    "print(y.lstrip(), '  -lstrip')\n",
    "\n",
    "#str.maketrans - Devuelve una tabla de mapeo que se puede utilizar con el metodo para reemplazar caracteres especificos translate()\n",
    "mytable = str.maketrans(\"a\", \"x\")\n",
    "#                      (valor old, new value)\n",
    "print(name.translate(mytable), '   -maketrans y translate')\n",
    "\n",
    "\n",
    "#PARTITION - Busca una cadena especifica y la divide en una tupla que contiene 3 elementos\n",
    "\n",
    "print(name.partition('Galicia'), '  -partition')\n",
    "\n",
    "#RFIND -  metodo encuentra la ultima ocurrencia del valor especificado, si no encuentra valor regresa -1, igual que rindex()\n",
    "\n",
    "print(name.rfind('Martinez'), '-  rfind')\n"
   ]
  },
  {
   "cell_type": "code",
   "execution_count": 29,
   "id": "14aaf686-dec1-4828-9bce-7792584e3468",
   "metadata": {},
   "outputs": [
    {
     "name": "stdout",
     "output_type": "stream",
     "text": [
      "B es mayor\n"
     ]
    }
   ],
   "source": [
    "#VALORES BOOLEANOS\n",
    "\n",
    "a = 200\n",
    "b = 300\n",
    "\n",
    "if b > a:\n",
    "    print('B es mayor')\n",
    "else:\n",
    "    print('A es mayor')"
   ]
  },
  {
   "cell_type": "code",
   "execution_count": 30,
   "id": "2e27b886-6fcd-451d-ae8f-6d59c1668a8d",
   "metadata": {},
   "outputs": [
    {
     "name": "stdout",
     "output_type": "stream",
     "text": [
      "True\n",
      "False\n"
     ]
    }
   ],
   "source": [
    "print(b > a)\n",
    "print(a > b)"
   ]
  },
  {
   "cell_type": "code",
   "execution_count": 31,
   "id": "3ddb6c2f-6a06-45d6-9fbc-fe6be208f65d",
   "metadata": {},
   "outputs": [
    {
     "name": "stdout",
     "output_type": "stream",
     "text": [
      "True\n",
      "YES\n"
     ]
    }
   ],
   "source": [
    "#BOOL () - Permite evaluar cualquier valor y darte true o false a cambio\n",
    "\n",
    "print(bool(10)) #Cualuqier cadena es true excepto las vacias, el 0, none, false\n",
    "\n",
    "#funciones devolviendo true\n",
    "\n",
    "def myfunc():\n",
    "    return True\n",
    "\n",
    "if myfunc():\n",
    "    print('YES')\n",
    "else:\n",
    "    print('NO')"
   ]
  },
  {
   "cell_type": "code",
   "execution_count": 32,
   "id": "6f290751-63ed-4020-b138-f4b21d78bf00",
   "metadata": {},
   "outputs": [
    {
     "name": "stdout",
     "output_type": "stream",
     "text": [
      "False\n"
     ]
    }
   ],
   "source": [
    "#isinstance() - dETERMINA SI UN OBJETO ES DE UN DETERMINADO TIPO DE DATO\n",
    "g = 12.2\n",
    "print(isinstance(g, int))"
   ]
  },
  {
   "cell_type": "code",
   "execution_count": 33,
   "id": "027ac346-33d0-43c9-af0f-e8290f3b043d",
   "metadata": {},
   "outputs": [
    {
     "name": "stdout",
     "output_type": "stream",
     "text": [
      "3\n"
     ]
    }
   ],
   "source": [
    "#LISTAS\n",
    "\n",
    "\"\"\"\n",
    "-Las listas se utilizan para almacenar varios elementos en una sola variable.\n",
    "-Se crean utilizando CORCHETES []\n",
    "-Los elementos de la lista estan ordenados,es decir, tienen un orden definido, y ese orden no cambiara\n",
    "_Si se agregan nuevos elementos a una lsita, los nuevos elementos se colocan al final de la lista\n",
    "-SE PUEDE MODIFICAR y PERMITE VALORES DUPLICADOS\n",
    "-Los elementos de la lista estan indexados\n",
    "-Los elementos de la lista pueden ser de CUALQUIER TIPO DE DATO\n",
    "\"\"\"\n",
    "\n",
    "thislist = ['appel', 'manzana','kiwi']\n",
    "thislist\n",
    "\n",
    "#LEN - longitud de la lista\n",
    "\n",
    "print(len(thislist))"
   ]
  },
  {
   "cell_type": "code",
   "execution_count": 34,
   "id": "47579dfd-1d59-41de-8bde-c5807fbc46ab",
   "metadata": {},
   "outputs": [
    {
     "name": "stdout",
     "output_type": "stream",
     "text": [
      "['ana', 'luis', 'maria']\n"
     ]
    }
   ],
   "source": [
    "#LIST () - Constructor: crea listas\n",
    "li = list(('ana','luis','maria'))\n",
    "print(li)"
   ]
  },
  {
   "cell_type": "code",
   "execution_count": 35,
   "id": "2ac97951-cdd8-42de-8407-cc7fb8813235",
   "metadata": {},
   "outputs": [
    {
     "name": "stdout",
     "output_type": "stream",
     "text": [
      "maria\n"
     ]
    }
   ],
   "source": [
    "#ACCESO A ELEMENTOS DE LA LISTA\n",
    "print(li[2])"
   ]
  },
  {
   "cell_type": "code",
   "execution_count": 36,
   "id": "1f388328-70db-4d7d-ab51-ad25f6e4cb22",
   "metadata": {},
   "outputs": [
    {
     "name": "stdout",
     "output_type": "stream",
     "text": [
      "si esta\n"
     ]
    }
   ],
   "source": [
    "if 'appel' in thislist:\n",
    "    print('si esta')"
   ]
  },
  {
   "cell_type": "code",
   "execution_count": 37,
   "id": "4190a06f-371a-4478-b8c0-56a1d732c16a",
   "metadata": {},
   "outputs": [
    {
     "name": "stdout",
     "output_type": "stream",
     "text": [
      "['ana', 'rosa', 'maria']\n",
      "[1, 0, 11, 6, 7, 8, 9]\n"
     ]
    }
   ],
   "source": [
    "#Cambiar elementos de una lista\n",
    "li[1] = 'rosa'\n",
    "print(li)\n",
    "\n",
    "#rango\n",
    "thisli = [1,2,3,4,5,6,7,8,9]\n",
    "thisli[1:5] = [00,11]\n",
    "print(thisli)\n",
    "# si inserta MAS elementos d elos que reemplaza, los nuevos elementos se insertaran\n",
    "# donde especifico y los elementos restantes se movera en consecuencia\n",
    "\n",
    "#si inserta MENOS elementos  d elos que reemplazan, los nuevos elementos se insertaran\n",
    "#donde especifico y los elementos restantes se moveran en consecuencia\n",
    "\n"
   ]
  },
  {
   "cell_type": "code",
   "execution_count": 38,
   "id": "d773c392-e823-4b41-adfd-5bcdc19450b9",
   "metadata": {},
   "outputs": [
    {
     "data": {
      "text/plain": [
       "[1, 'flor', 0, 11, 6, 7, 8, 9]"
      ]
     },
     "execution_count": 38,
     "metadata": {},
     "output_type": "execute_result"
    }
   ],
   "source": [
    "#INSERT() - Insertar elementos\n",
    "thisli.insert(1,'flor')\n",
    "#            (posicion, valor)\n",
    "thisli"
   ]
  },
  {
   "cell_type": "code",
   "execution_count": 39,
   "id": "bbf143ce-4181-43fd-a854-e3f55126183e",
   "metadata": {},
   "outputs": [
    {
     "name": "stdout",
     "output_type": "stream",
     "text": [
      "['uva', 'mango', 'sandia', 'papaya', 'kiwi', 'banana', 'guayaba']\n"
     ]
    }
   ],
   "source": [
    "#EXTEND() - Agregar elementos a una lista\n",
    "frutas = ['uva','mango','sandia','papaya']\n",
    "frutas2 =['kiwi','banana','guayaba']\n",
    "frutas.extend(frutas2)\n",
    "print(frutas)"
   ]
  },
  {
   "cell_type": "code",
   "execution_count": 40,
   "id": "ff3ee8a0-928d-4a93-9d5e-31a863c5a17c",
   "metadata": {},
   "outputs": [
    {
     "name": "stdout",
     "output_type": "stream",
     "text": [
      "None\n"
     ]
    },
    {
     "data": {
      "text/plain": [
       "[1, 0, 11, 6, 7, 8, 9]"
      ]
     },
     "execution_count": 40,
     "metadata": {},
     "output_type": "execute_result"
    }
   ],
   "source": [
    "print(thisli.remove('flor'))\n",
    "thisli\n",
    "#si hay mas elementos iguales elimina el primer valor encontrado"
   ]
  },
  {
   "cell_type": "code",
   "execution_count": 41,
   "id": "21db1e75-a1b7-4181-9663-179b6996de6c",
   "metadata": {},
   "outputs": [
    {
     "name": "stdout",
     "output_type": "stream",
     "text": [
      "[1, 11, 6, 7, 8, 9]\n"
     ]
    }
   ],
   "source": [
    "#POP - Elimina elindice especificado\n",
    "thisli.pop(1)\n",
    "print(thisli)\n",
    "# si no se especifica el indice elimina el ultimo elemento"
   ]
  },
  {
   "cell_type": "code",
   "execution_count": 42,
   "id": "71f1406c-7291-4598-a92e-24c4d616ae04",
   "metadata": {},
   "outputs": [
    {
     "name": "stdout",
     "output_type": "stream",
     "text": [
      "[1, 11, 6, 7, 8]\n"
     ]
    }
   ],
   "source": [
    "del thisli[5]\n",
    "print(thisli)"
   ]
  },
  {
   "cell_type": "code",
   "execution_count": 43,
   "id": "d4581405-73cf-4f9e-8bab-3d30b135b10d",
   "metadata": {},
   "outputs": [
    {
     "name": "stdout",
     "output_type": "stream",
     "text": [
      "1\n",
      "11\n",
      "6\n",
      "7\n",
      "8\n"
     ]
    }
   ],
   "source": [
    "# FOR - recorrer listas\n",
    "for x in thisli:\n",
    "    print(x)"
   ]
  },
  {
   "cell_type": "code",
   "execution_count": 44,
   "id": "f7959911-0670-4d5b-8659-a555495154e9",
   "metadata": {},
   "outputs": [
    {
     "name": "stdout",
     "output_type": "stream",
     "text": [
      "1\n",
      "11\n",
      "6\n",
      "7\n",
      "8\n"
     ]
    }
   ],
   "source": [
    "#range() y len() - recorreer indices\n",
    "for i in range(len(thisli)):\n",
    "    print(thisli[i])"
   ]
  },
  {
   "cell_type": "code",
   "execution_count": 45,
   "id": "6119f9c2-448b-4a70-b980-c6b005c9ee99",
   "metadata": {},
   "outputs": [
    {
     "name": "stdout",
     "output_type": "stream",
     "text": [
      "1\n",
      "11\n",
      "6\n",
      "7\n",
      "8\n"
     ]
    }
   ],
   "source": [
    "#WHILE - len()\n",
    "i = 0\n",
    "while i < len(thisli):\n",
    "    print(thisli[i])\n",
    "    i = i + 1"
   ]
  },
  {
   "cell_type": "code",
   "execution_count": 46,
   "id": "6f9d2224-9532-4b34-9258-74d21e6cd88a",
   "metadata": {},
   "outputs": [
    {
     "name": "stdout",
     "output_type": "stream",
     "text": [
      "1\n",
      "11\n",
      "6\n",
      "7\n",
      "8\n"
     ]
    },
    {
     "data": {
      "text/plain": [
       "[None, None, None, None, None]"
      ]
     },
     "execution_count": 46,
     "metadata": {},
     "output_type": "execute_result"
    }
   ],
   "source": [
    "[print(x) for x in thisli]"
   ]
  },
  {
   "cell_type": "code",
   "execution_count": 47,
   "id": "7fbb96c5-cec4-42db-bdc7-700b60da9a26",
   "metadata": {},
   "outputs": [
    {
     "name": "stdout",
     "output_type": "stream",
     "text": [
      "['apple', 'banana', 'mango']\n",
      "['apple', 'banana', 'mango']\n"
     ]
    }
   ],
   "source": [
    "#COMPRENSION DE LISTAS\n",
    "\n",
    "\"\"\"\n",
    "Ofrece una sintaxis mas corta cuando desea crear una nueva lista basada en los valores de una lista existente\n",
    "\"\"\"\n",
    "fruts = ['apple', 'banana', 'cherry', 'kiwi', 'mango']\n",
    "newlist = [] #forma larga\n",
    "\n",
    "#forma larga\n",
    "\n",
    "for x in fruts:\n",
    "    if \"a\" in x:\n",
    "        newlist.append(x)\n",
    "\n",
    "print(newlist)\n",
    "\n",
    "#comprension\n",
    "\n",
    "newlist = [ x for x in fruts if \"a\" in x]\n",
    "#newlist= [expression FOR  item IN iterable IF condicion == true]\n",
    "print(newlist)"
   ]
  },
  {
   "cell_type": "code",
   "execution_count": 48,
   "id": "1d83f2ec-e615-4da7-b9af-3156ab1d703f",
   "metadata": {},
   "outputs": [
    {
     "data": {
      "text/plain": [
       "['banana', 'cherry', 'kiwi', 'mango']"
      ]
     },
     "execution_count": 48,
     "metadata": {},
     "output_type": "execute_result"
    }
   ],
   "source": [
    "#CONDICION - La condicion es como un filtro que solo acepta los elementos que evaluan como True\n",
    "\n",
    "#Acepta unicamente articulos que no sean \"manzana\"\n",
    "\n",
    "new = [x for x in fruts if x != 'apple']\n",
    "new"
   ]
  },
  {
   "cell_type": "code",
   "execution_count": 49,
   "id": "7c483e97-5d03-487b-8058-2ce02363207c",
   "metadata": {},
   "outputs": [
    {
     "data": {
      "text/plain": [
       "['apple', 'banana', 'cherry', 'kiwi', 'mango']"
      ]
     },
     "execution_count": 49,
     "metadata": {},
     "output_type": "execute_result"
    }
   ],
   "source": [
    "# sin ninguna if declaracion\n",
    "\n",
    "nes = [x for x in fruts]\n",
    "nes"
   ]
  },
  {
   "cell_type": "code",
   "execution_count": 50,
   "id": "acb59dbd-fc8f-4ef5-bcbc-154d7592502a",
   "metadata": {},
   "outputs": [
    {
     "data": {
      "text/plain": [
       "[0, 1, 2, 3, 4, 5, 6, 7, 8, 9]"
      ]
     },
     "execution_count": 50,
     "metadata": {},
     "output_type": "execute_result"
    }
   ],
   "source": [
    "#ITERABLE - Puede ser cualquier objeto iterable, como una lista, una tupla, un conjunto, etc.\n",
    "#usando la range() funcion para crear un iterable\n",
    "\n",
    "new =[x for x in range(10)]\n",
    "new"
   ]
  },
  {
   "cell_type": "code",
   "execution_count": 51,
   "id": "bdfecdac-6a90-41a4-b181-a778afeabe41",
   "metadata": {},
   "outputs": [
    {
     "data": {
      "text/plain": [
       "[0, 1, 2, 3, 4]"
      ]
     },
     "execution_count": 51,
     "metadata": {},
     "output_type": "execute_result"
    }
   ],
   "source": [
    "#Acepte solo numeros menores a 5\n",
    "new = [x for x in range(10) if x < 5]\n",
    "new"
   ]
  },
  {
   "cell_type": "code",
   "execution_count": 52,
   "id": "2d93d62a-36db-498d-b6c8-f05fb45648ec",
   "metadata": {},
   "outputs": [
    {
     "data": {
      "text/plain": [
       "['APPLE', 'BANANA', 'CHERRY', 'KIWI', 'MANGO']"
      ]
     },
     "execution_count": 52,
     "metadata": {},
     "output_type": "execute_result"
    }
   ],
   "source": [
    "#EXPRESION -  es el elemento actual en la iteracion, pero tambien es el resultado, que puedes manipular antes de que termine\n",
    "#          - como un elemento de lista en la nueva lista\n",
    "\n",
    "newlist = [x.upper() for x in fruts]\n",
    "newlist"
   ]
  },
  {
   "cell_type": "code",
   "execution_count": 53,
   "id": "6653ef50-0067-46b2-b011-8f987f7ae9fa",
   "metadata": {},
   "outputs": [
    {
     "data": {
      "text/plain": [
       "['hello', 'hello', 'hello', 'hello', 'hello']"
      ]
     },
     "execution_count": 53,
     "metadata": {},
     "output_type": "execute_result"
    }
   ],
   "source": [
    "#Establezca todos los valores en la nueva lista en 'hola'\n",
    "newlist=['hello' for x in fruts]\n",
    "newlist"
   ]
  },
  {
   "cell_type": "code",
   "execution_count": 54,
   "id": "67783944-2802-4461-a2d7-118a8c1e982f",
   "metadata": {},
   "outputs": [
    {
     "data": {
      "text/plain": [
       "['apple', 'orange', 'cherry', 'kiwi', 'mango']"
      ]
     },
     "execution_count": 54,
     "metadata": {},
     "output_type": "execute_result"
    }
   ],
   "source": [
    "#Devuelve 'naranja' en lugar de 'platano'\n",
    "newlist = [x if  x != 'banana' else 'orange' for x in fruts]\n",
    "newlist"
   ]
  },
  {
   "cell_type": "code",
   "execution_count": 55,
   "id": "137693e8-4731-4eda-a846-5c0ebf955afe",
   "metadata": {},
   "outputs": [
    {
     "name": "stdout",
     "output_type": "stream",
     "text": [
      "['banana', 'kiwi', 'mango', 'orange', 'pineapple']\n"
     ]
    }
   ],
   "source": [
    "#ORDENAR LISTAS\n",
    "\n",
    "\"\"\"\n",
    "ORDENAR LISTAS ALFANUMERICAMENTE\n",
    "\n",
    "Los objetos de lista tiene un sort() metodo que rodenara la lista alfanumericamente, en orden ascendente, de forma predeterminada\n",
    "\"\"\"\n",
    "\n",
    "#ordenar lisras alfaumericamente\n",
    "\n",
    "thislista = ['orange', 'mango', 'kiwi', 'pineapple', 'banana']\n",
    "thislista.sort()\n",
    "print(thislista)"
   ]
  },
  {
   "cell_type": "code",
   "execution_count": 56,
   "id": "9ecc9dde-509e-4e8f-b504-331163804603",
   "metadata": {},
   "outputs": [
    {
     "data": {
      "text/plain": [
       "[23, 50, 65, 82, 100]"
      ]
     },
     "execution_count": 56,
     "metadata": {},
     "output_type": "execute_result"
    }
   ],
   "source": [
    "#Ordenar la lista numericamente\n",
    "listnum = [100,50,65,82,23]\n",
    "listnum.sort()\n",
    "listnum"
   ]
  },
  {
   "cell_type": "code",
   "execution_count": 57,
   "id": "4a397c42-12c5-4442-a454-71a8f365aade",
   "metadata": {},
   "outputs": [
    {
     "data": {
      "text/plain": [
       "[100, 82, 65, 50, 23]"
      ]
     },
     "execution_count": 57,
     "metadata": {},
     "output_type": "execute_result"
    }
   ],
   "source": [
    "#ORDEN DESCENDENTE - Se utiliza el argumento de palabra clave reverse = true\n",
    "thislista.sort(reverse = True)\n",
    "thislista\n",
    "listnum.sort(reverse = True)\n",
    "listnum"
   ]
  },
  {
   "cell_type": "code",
   "execution_count": 58,
   "id": "009168e9-4c71-44d5-b6cb-cca28c12b3a0",
   "metadata": {},
   "outputs": [
    {
     "name": "stdout",
     "output_type": "stream",
     "text": [
      "<function myfunc at 0x0000018DDCD99A80>\n"
     ]
    }
   ],
   "source": [
    "\"\"\"\n",
    "Personalizar la funcion de ordenacion - utilizando la palabra key = function la funcion devolvera un numero que se utilizara para ordenar la lista\n",
    "(el numero mas bajo rpimero)\n",
    "\"\"\"\n",
    "\n",
    "#Ordene la lista segun que tan cerca este el numero de 50:\n",
    "\n",
    "def myfunc(n):\n",
    "    return abs (n - 50)\n",
    "    \n",
    "listnum = [100,50,65,82,23]\n",
    "listnum.sort(key = myfunc)\n",
    "\n",
    "print(myfunc)\n"
   ]
  },
  {
   "cell_type": "code",
   "execution_count": 59,
   "id": "8e126eef-f5ad-4362-9d02-9af2468c9e3f",
   "metadata": {},
   "outputs": [
    {
     "name": "stdout",
     "output_type": "stream",
     "text": [
      "['KIWI', 'Naranja', 'manzana', 'uva']\n"
     ]
    }
   ],
   "source": [
    "#ORDENACION SIN DISTINCIÓN ENTRE MAYUSCULAS Y MINUSCULAS\n",
    "\n",
    "#Sort distingue entre mayusculas y minusculas , por ende las mayusculas se orden primero\n",
    "frutas = ['manzana', 'KIWI', 'Naranja', 'uva']\n",
    "frutas.sort()\n",
    "print(frutas)"
   ]
  },
  {
   "cell_type": "code",
   "execution_count": 60,
   "id": "729d193f-ad15-45c1-9dfa-3dd68d2ad5bf",
   "metadata": {},
   "outputs": [
    {
     "name": "stdout",
     "output_type": "stream",
     "text": [
      "['KIWI', 'manzana', 'Naranja', 'uva']\n"
     ]
    }
   ],
   "source": [
    "#STR.LOWER - funcion de ordenamiento que no distinga entre mayusculas y minusculas \n",
    "frutas.sort(key = str.lower)\n",
    "print(frutas)"
   ]
  },
  {
   "cell_type": "code",
   "execution_count": 61,
   "id": "df3046ad-e95c-4664-9719-f3b1449897e8",
   "metadata": {},
   "outputs": [
    {
     "name": "stdout",
     "output_type": "stream",
     "text": [
      "['uva', 'Naranja', 'KIWI', 'manzana']\n"
     ]
    }
   ],
   "source": [
    "#ORDEN INVERSO - reverse() metodo invierte el orden de clasificacion actual de los elementos\n",
    "frutas = ['manzana', 'KIWI', 'Naranja', 'uva']\n",
    "frutas.reverse()\n",
    "print(frutas)"
   ]
  },
  {
   "cell_type": "code",
   "execution_count": 62,
   "id": "18a99263-55c4-4f0c-ae72-f15d896501d8",
   "metadata": {},
   "outputs": [
    {
     "name": "stdout",
     "output_type": "stream",
     "text": [
      "['apple', 'banana', 'cherry']\n"
     ]
    }
   ],
   "source": [
    "#COPIAR LISTAS - Copy()\n",
    "\n",
    "frut = ['apple', 'banana', 'cherry']\n",
    "newfruts = frut.copy()\n",
    "print(newfruts)"
   ]
  },
  {
   "cell_type": "code",
   "execution_count": 63,
   "id": "c2b9592e-10c1-478a-b207-9249bcd54936",
   "metadata": {},
   "outputs": [
    {
     "name": "stdout",
     "output_type": "stream",
     "text": [
      "[50, 30, 59, 33]\n"
     ]
    }
   ],
   "source": [
    "#Copia de una lista\n",
    "thislist =[50,30,59,33]\n",
    "newlist = list(thislist)\n",
    "print(newlist)"
   ]
  },
  {
   "cell_type": "code",
   "execution_count": 64,
   "id": "8bda2e0b-690c-490b-9f1b-3fce5f0ac314",
   "metadata": {},
   "outputs": [
    {
     "name": "stdout",
     "output_type": "stream",
     "text": [
      "[12, 42, 13, 7, 8, 43, 9]\n"
     ]
    }
   ],
   "source": [
    "#OPERADOR CORTE\n",
    "nume = [12,42,13,7,8,43,9]\n",
    "newnume = nume[:]\n",
    "print(newnume)"
   ]
  },
  {
   "cell_type": "code",
   "execution_count": 65,
   "id": "4712933b-a91e-41f5-873f-c2b9fcf268b5",
   "metadata": {},
   "outputs": [
    {
     "data": {
      "text/plain": [
       "('apple', 'banna', 'cherry')"
      ]
     },
     "execution_count": 65,
     "metadata": {},
     "output_type": "execute_result"
    }
   ],
   "source": [
    "#TUPLAS\n",
    "\n",
    "\"\"\"\n",
    "-Se utilizan para almacenar varios elementos en una sola variable\n",
    "-Almacena colecciones de datos\n",
    "-INMUTABLE, es decir, NO se puede agregar, cmabiar o eliminar elementos una vez creada\n",
    "-Se scriben con PARENTESIS ()\n",
    "-Los elementos de tupla estan ordenados, es decir, tienen un orden definido y ese orden NO se pueden modificar \n",
    "-PERMITE DUPLICADOS\n",
    "-Estan indexados\n",
    "-Los elementos de la tupla puden ser de cualquier tipo\n",
    "-Pude contener diferentes tipos de datos\n",
    "\"\"\"\n",
    "\n",
    "#Crear tupla\n",
    "\n",
    "tup = ('apple','banna','cherry')\n",
    "tup"
   ]
  },
  {
   "cell_type": "code",
   "execution_count": 66,
   "id": "cecc3d63-1f1c-4898-9bb7-3fffa5df2f75",
   "metadata": {},
   "outputs": [
    {
     "data": {
      "text/plain": [
       "3"
      ]
     },
     "execution_count": 66,
     "metadata": {},
     "output_type": "execute_result"
    }
   ],
   "source": [
    "#LONGITUD DE LA TUPLA\n",
    "len(tup)"
   ]
  },
  {
   "cell_type": "code",
   "execution_count": 67,
   "id": "496d0d9e-3132-428f-9b22-725c2322e719",
   "metadata": {},
   "outputs": [
    {
     "data": {
      "text/plain": [
       "('apple',)"
      ]
     },
     "execution_count": 67,
     "metadata": {},
     "output_type": "execute_result"
    }
   ],
   "source": [
    "#CREAR TUPLA CON UN ELEMENTO\n",
    "\n",
    "#debes pone una coma al final o python no la reconocera como una tupla\n",
    "thistupla = ('apple',)\n",
    "type(thistupla)\n",
    "thistupla"
   ]
  },
  {
   "cell_type": "code",
   "execution_count": 68,
   "id": "8816a654-ecc4-47a4-8751-4f66c1a08f59",
   "metadata": {},
   "outputs": [
    {
     "data": {
      "text/plain": [
       "(1, 2, 3, 4, 5, 6, 7)"
      ]
     },
     "execution_count": 68,
     "metadata": {},
     "output_type": "execute_result"
    }
   ],
   "source": [
    "#CONSTRUCTOR TUPLA - tuple()\n",
    "thistup = tuple((1,2,3,4,5,6,7))\n",
    "thistup"
   ]
  },
  {
   "cell_type": "code",
   "execution_count": 69,
   "id": "34f4b4d7-ebfc-4c02-9d53-ced2df758ab4",
   "metadata": {},
   "outputs": [
    {
     "data": {
      "text/plain": [
       "2"
      ]
     },
     "execution_count": 69,
     "metadata": {},
     "output_type": "execute_result"
    }
   ],
   "source": [
    "#ACCESO A ELEMENTOS DE TUPLAS\n",
    "thistup[1]"
   ]
  },
  {
   "cell_type": "code",
   "execution_count": 70,
   "id": "d928d82f-d9be-407b-bef8-59e20732289e",
   "metadata": {},
   "outputs": [
    {
     "data": {
      "text/plain": [
       "6"
      ]
     },
     "execution_count": 70,
     "metadata": {},
     "output_type": "execute_result"
    }
   ],
   "source": [
    "#INDEXACION NEGATIVA\n",
    "thistup[-2]"
   ]
  },
  {
   "cell_type": "code",
   "execution_count": 71,
   "id": "6a31a922-b116-4873-8fe3-24b5191ca574",
   "metadata": {},
   "outputs": [
    {
     "data": {
      "text/plain": [
       "(3, 4, 5, 6)"
      ]
     },
     "execution_count": 71,
     "metadata": {},
     "output_type": "execute_result"
    }
   ],
   "source": [
    "#RANGO DE INDICES\n",
    "thistup[2:6]"
   ]
  },
  {
   "cell_type": "code",
   "execution_count": 72,
   "id": "f1701a85-d2b0-4543-9ba8-188df2c7ecfc",
   "metadata": {},
   "outputs": [
    {
     "data": {
      "text/plain": [
       "(4, 5, 6)"
      ]
     },
     "execution_count": 72,
     "metadata": {},
     "output_type": "execute_result"
    }
   ],
   "source": [
    "#RANGO NEGATIVO\n",
    "thistup[3:-1]\n"
   ]
  },
  {
   "cell_type": "code",
   "execution_count": 73,
   "id": "1b7d9fb7-325a-4b04-9f4e-10b27c635c46",
   "metadata": {},
   "outputs": [
    {
     "name": "stdout",
     "output_type": "stream",
     "text": [
      "yes\n"
     ]
    }
   ],
   "source": [
    "#Comprobar si existe\n",
    "\n",
    "if 7 in thistup:\n",
    "    print('yes')"
   ]
  },
  {
   "cell_type": "code",
   "execution_count": 74,
   "id": "40c37a9c-04a4-4ca2-8043-ef01abb1da16",
   "metadata": {},
   "outputs": [
    {
     "data": {
      "text/plain": [
       "(1, 2, 3, 4, 5, 6, 7, 8, 9, 10)"
      ]
     },
     "execution_count": 74,
     "metadata": {},
     "output_type": "execute_result"
    }
   ],
   "source": [
    "#ACTUALIZAR TUPLAS - CAMBIAR LOS VALORES DE LAS TUPLAS\n",
    "\n",
    "\n",
    "#convertir la tupla a lista para poder modificar y despues volver a convertirlaen tupla\n",
    "\n",
    "x = list(thistup)\n",
    "y = list((8,9,10))\n",
    "x.extend(y)\n",
    "z = tuple(x)\n",
    "type(z)\n",
    "z"
   ]
  },
  {
   "cell_type": "code",
   "execution_count": 75,
   "id": "f419118d-8b43-4889-9524-73779a906c60",
   "metadata": {},
   "outputs": [
    {
     "data": {
      "text/plain": [
       "(1, 2, 3, 4, 5, 6, 7, 8, 9, 10, 11, 12, 13, 14, 15)"
      ]
     },
     "execution_count": 75,
     "metadata": {},
     "output_type": "execute_result"
    }
   ],
   "source": [
    "#AGREGAR ARTICULOS\n",
    "\n",
    "p = tuple((11,12,13,14,15))\n",
    "z += p\n",
    "z"
   ]
  },
  {
   "cell_type": "code",
   "execution_count": 76,
   "id": "3a834ee9-99d7-49d9-9119-67e5eea0818f",
   "metadata": {},
   "outputs": [
    {
     "name": "stdout",
     "output_type": "stream",
     "text": [
      "apple\n",
      "banana\n"
     ]
    }
   ],
   "source": [
    "#DESEMPAQUETAR TUPLAS\n",
    "\n",
    "#en python tambien podemos extraer los valores de vuleta a las variables, esto se llama \"desempaquetar\"\n",
    "fruts = ('apple','fresa','banana')\n",
    "(x,y,z) = fruts\n",
    "print(x)\n",
    "#print(y)\n",
    "print(z)"
   ]
  },
  {
   "cell_type": "code",
   "execution_count": 77,
   "id": "f5d2e0c8-87b4-437f-a87b-449613a48fbe",
   "metadata": {},
   "outputs": [
    {
     "name": "stdout",
     "output_type": "stream",
     "text": [
      "apple\n",
      "fresa\n",
      "['banana', 'mango', 'kiwi', 'frambuesa']\n"
     ]
    }
   ],
   "source": [
    "# USANDO ASTERISCO *\n",
    "\n",
    "\"\"\"\n",
    "Si el numero de variables  es menor que el numero de valores, puede agregar un * al nombre\n",
    "de la variable y los valores se asignaran ala variable como una lista\n",
    "\"\"\"\n",
    "\n",
    "fruts = ('apple','fresa','banana','mango','kiwi','frambuesa')\n",
    "(x,y,*z) = fruts\n",
    "print(x)\n",
    "print(y)\n",
    "print(z)"
   ]
  },
  {
   "cell_type": "code",
   "execution_count": 78,
   "id": "3a132d53-2025-410d-b22a-9ec2890a5ae8",
   "metadata": {},
   "outputs": [
    {
     "name": "stdout",
     "output_type": "stream",
     "text": [
      "apple\n",
      "fresa\n",
      "banana\n",
      "mango\n",
      "kiwi\n",
      "frambuesa\n"
     ]
    }
   ],
   "source": [
    "#TUPLAS DE BUCLE\n",
    "\n",
    "for x in fruts:\n",
    "    print(x)"
   ]
  },
  {
   "cell_type": "code",
   "execution_count": 79,
   "id": "f3e98898-735b-41fa-b9d4-b5587206a263",
   "metadata": {},
   "outputs": [
    {
     "name": "stdout",
     "output_type": "stream",
     "text": [
      "apple\n",
      "fresa\n",
      "banana\n",
      "mango\n",
      "kiwi\n",
      "frambuesa\n"
     ]
    }
   ],
   "source": [
    "#RECORRER LOS NUMEROS DE INDICE - RANGE() Y LEN()\n",
    "\n",
    "for i in range(len(fruts)):\n",
    "    print(fruts[i])"
   ]
  },
  {
   "cell_type": "code",
   "execution_count": 80,
   "id": "0ee4f35a-4306-4b4d-939c-9012733d2679",
   "metadata": {},
   "outputs": [
    {
     "name": "stdout",
     "output_type": "stream",
     "text": [
      "apple\n",
      "fresa\n",
      "banana\n",
      "mango\n",
      "kiwi\n",
      "frambuesa\n"
     ]
    }
   ],
   "source": [
    "#BUCLE WHILE - len()\n",
    "\n",
    "i = 0\n",
    "\n",
    "while i < len(fruts):\n",
    "    print(fruts[i])\n",
    "    i = i + 1"
   ]
  },
  {
   "cell_type": "code",
   "execution_count": 81,
   "id": "890db604-ac4c-4aee-bce2-0c0a305e9d04",
   "metadata": {},
   "outputs": [
    {
     "data": {
      "text/plain": [
       "(1, 2, 3, 'a', 'b', 'c')"
      ]
     },
     "execution_count": 81,
     "metadata": {},
     "output_type": "execute_result"
    }
   ],
   "source": [
    "#UNIR DOS TUPLAS\n",
    "\n",
    "x = (1,2,3)\n",
    "y = ('a','b','c')\n",
    "z = x + y\n",
    "z"
   ]
  },
  {
   "cell_type": "code",
   "execution_count": 82,
   "id": "2d2ba02a-5cd0-4b08-bde2-fadd28166c6f",
   "metadata": {},
   "outputs": [
    {
     "data": {
      "text/plain": [
       "('ana', 'maria', 'ana', 'maria')"
      ]
     },
     "execution_count": 82,
     "metadata": {},
     "output_type": "execute_result"
    }
   ],
   "source": [
    "#MUTIPLICAR TUPLAS\n",
    "x1 = ('ana','maria')\n",
    "x1 * 2"
   ]
  },
  {
   "cell_type": "code",
   "execution_count": 83,
   "id": "4f31e69f-5d75-44cc-b757-d3c76a201170",
   "metadata": {},
   "outputs": [
    {
     "name": "stdout",
     "output_type": "stream",
     "text": [
      "{'banana', 'cherry', 'apple'}\n"
     ]
    }
   ],
   "source": [
    "#PYTHON SETS (conjuntos)\n",
    "\n",
    "\"\"\"\n",
    "Se utilizan para almacenar varios elementos en una sola variable\n",
    "-DESORNENADA: no es posible hacer referencia a ellos por indice o clave\n",
    "-NO permite duplicados\n",
    "-Inmutabe : no se pueden modificar\n",
    "-Se puede eliminar elementos\n",
    "-Se puede agregar nuevos elementos\n",
    "-NO indexada\n",
    "-Se escriben con {}\n",
    "-Puede contener diferentes tipos de datos\n",
    "\"\"\"\n",
    "\n",
    "#Crear un conjunto\n",
    "\n",
    "thisset = {'apple','banana','cherry'}\n",
    "print(thisset)\n",
    "\n",
    "#los conjutnos no estan ordenados, por lo que no puedes estar seguro en que orden aparecen"
   ]
  },
  {
   "cell_type": "code",
   "execution_count": 84,
   "id": "68a0cd7b-48b6-4fdd-9283-460933b56779",
   "metadata": {},
   "outputs": [
    {
     "name": "stdout",
     "output_type": "stream",
     "text": [
      "{True, 2, 'banana', 'cherry', 'apple'}\n"
     ]
    }
   ],
   "source": [
    "#Los valores true y 1 se consideran el mismo valor en conjunto sy se trata como duplicados\n",
    "thisset = {'apple','banana','cherry',True,1,2}\n",
    "print(thisset)"
   ]
  },
  {
   "cell_type": "code",
   "execution_count": 85,
   "id": "c7b448d2-5f46-473c-a7bf-8ab1f1281990",
   "metadata": {},
   "outputs": [
    {
     "name": "stdout",
     "output_type": "stream",
     "text": [
      "{False, True, 'banana', 'cherry', 'apple'}\n"
     ]
    }
   ],
   "source": [
    "#los valores False y 0 se consideran el mismo valor en conjuntos y se tratan como duplicados\n",
    "thisset = {'apple','banana','cherry',True,False,0}\n",
    "print(thisset)"
   ]
  },
  {
   "cell_type": "code",
   "execution_count": 86,
   "id": "df493e71-702e-41fb-9eba-6cc25eecfec5",
   "metadata": {},
   "outputs": [
    {
     "name": "stdout",
     "output_type": "stream",
     "text": [
      "3\n",
      "<class 'set'>\n"
     ]
    }
   ],
   "source": [
    "#Obtener la longitud de un conjunto - len()\n",
    "\n",
    "thisset = {'apple','banana','cherry'}\n",
    "print(len(thisset))\n",
    "print(type(thisset))"
   ]
  },
  {
   "cell_type": "code",
   "execution_count": 87,
   "id": "72f63d29-68f9-474d-8832-b1f370dc9961",
   "metadata": {},
   "outputs": [
    {
     "name": "stdout",
     "output_type": "stream",
     "text": [
      "{'banana', 'cherry', 'apple'}\n"
     ]
    }
   ],
   "source": [
    "#constructor - set()\n",
    "thiset = set(('apple','banana','cherry'))\n",
    "print(thiset)"
   ]
  },
  {
   "cell_type": "code",
   "execution_count": 88,
   "id": "434e54c8-9ff3-4581-9160-8455c0bdfc64",
   "metadata": {},
   "outputs": [
    {
     "name": "stdout",
     "output_type": "stream",
     "text": [
      "banana\n",
      "cherry\n",
      "apple\n",
      "True\n",
      "False\n"
     ]
    }
   ],
   "source": [
    "#ACCEDER A ELEMENTOS - for - in\n",
    "thisset = {'apple','banana','cherry'}\n",
    "for x in thisset:\n",
    "    print(x)\n",
    "\n",
    "print('banana' in thisset)\n",
    "print('banana' not in thisset)"
   ]
  },
  {
   "cell_type": "code",
   "execution_count": 89,
   "id": "584c321b-d899-4920-8866-5e49376ecb90",
   "metadata": {},
   "outputs": [
    {
     "name": "stdout",
     "output_type": "stream",
     "text": [
      "{'orange', 'banana', 'cherry', 'apple'}\n"
     ]
    }
   ],
   "source": [
    "#AGREGAR ELEMENTOS A UN CONJUNTO - add()\n",
    "\n",
    "thisset = {'apple','banana','cherry'}\n",
    "thisset.add('orange')\n",
    "print(thisset)"
   ]
  },
  {
   "cell_type": "code",
   "execution_count": 90,
   "id": "c1253dfe-a983-4daf-b068-679781a8f90a",
   "metadata": {},
   "outputs": [
    {
     "name": "stdout",
     "output_type": "stream",
     "text": [
      "{'banana', 'papaya', 'mango', 'cherry', 'pineapple', 'apple'}\n"
     ]
    }
   ],
   "source": [
    "#AGREGAR CONJUNTOS - update()\n",
    "\n",
    "thisset = {'apple','banana','cherry'}\n",
    "tropical = {'pineapple','mango','papaya'}\n",
    "thisset.update(tropical)\n",
    "print(thisset)"
   ]
  },
  {
   "cell_type": "code",
   "execution_count": 91,
   "id": "cb12c4ef-93a8-4951-a3fa-f99d6fc81c27",
   "metadata": {},
   "outputs": [
    {
     "name": "stdout",
     "output_type": "stream",
     "text": [
      "{'kiwi', 'orange', 'banana', 'cherry', 'apple'}\n"
     ]
    }
   ],
   "source": [
    "#update: no tiene que ser solo otro conjunto\n",
    "#puede ser cualquier iterable (tuplas,listas,diccionarios)\n",
    "\n",
    "mylist = ['orange','kiwi']\n",
    "thisset = {'apple','banana','cherry'}\n",
    "thisset.update(mylist)\n",
    "print(thisset)"
   ]
  },
  {
   "cell_type": "code",
   "execution_count": 92,
   "id": "223135a2-a2a3-4dd6-84e4-3bee67745cc9",
   "metadata": {},
   "outputs": [
    {
     "name": "stdout",
     "output_type": "stream",
     "text": [
      "{'cherry', 'apple'}\n"
     ]
    }
   ],
   "source": [
    "#ELIMINAR ELEMENTOS DEL CONJUNTO -remove() -discard()\n",
    "thisset = {'apple','banana','cherry'}\n",
    "thisset.remove('banana')\n",
    "print(thisset)"
   ]
  },
  {
   "cell_type": "code",
   "execution_count": 93,
   "id": "d05f66d4-02dc-42f1-a146-3ac6ec368d72",
   "metadata": {},
   "outputs": [
    {
     "name": "stdout",
     "output_type": "stream",
     "text": [
      "{'cherry', 'apple'}\n"
     ]
    }
   ],
   "source": [
    "thisset = {'apple','banana','cherry'}\n",
    "thisset.discard('banana')\n",
    "print(thisset)"
   ]
  },
  {
   "cell_type": "code",
   "execution_count": 94,
   "id": "5f42a6d5-9a9c-4230-b4d1-95e860e90bc0",
   "metadata": {},
   "outputs": [
    {
     "name": "stdout",
     "output_type": "stream",
     "text": [
      "banana\n",
      "cherry\n",
      "apple\n"
     ]
    }
   ],
   "source": [
    "#LOOPS - Bucles\n",
    "\n",
    "#FOR\n",
    "thisset = {'apple','banana','cherry'}\n",
    "\n",
    "for x in thisset:\n",
    "    print(x)"
   ]
  },
  {
   "cell_type": "code",
   "execution_count": 95,
   "id": "2dfdfdfe-550d-4cef-a0e6-65aae5ba45f2",
   "metadata": {},
   "outputs": [
    {
     "name": "stdout",
     "output_type": "stream",
     "text": [
      "{'c', 1, 2, 3, 'a', 'b'}  - |\n",
      "{'c', 1, 2, 3, 'a', 'b'}  -UNION\n",
      "{1, 2, 3, 'elena', 'a', 'b', 'john', 'c', 'banana', 'cherry', 'apple'}  - UNION multiples sets\n",
      "{1, 2, 3, 'elena', 'a', 'b', 'john', 'c', 'banana', 'cherry', 'apple'}  - | multiples sets\n",
      "{'apple'}  -intersection()\n",
      "{'apple'}  -& == intersection()\n",
      "{'apple'}   - intersection_update\n",
      "{'banana', 'cherry'}  - difference\n",
      "{'banana', 'cherry'}  - difference\n",
      "{'banana', 'cherry'}  - difference_update\n",
      "{'microsoft', 'google', 'banana', 'cherry'}  - symmtric_difference\n",
      "{'microsoft', 'google', 'banana', 'cherry'}  - ^ symmtric_difference\n",
      "{'microsoft', 'google', 'banana', 'cherry'}  - symmetric_difference_update\n"
     ]
    }
   ],
   "source": [
    "#UNIR CONJUNTOS\n",
    "\"\"\"\n",
    "- update(),union(); unen todos los elementos de ambos conjuntos\n",
    "- intersection(): conserva solo los duplicados\n",
    "- difference(): metodo conserva los elementos del primer conjunto que no estan en los otros conjuntos\n",
    "- symmetric_difference(): metodo conserva todos los elementos EXCEPTO los duplicados\n",
    "\"\"\"\n",
    "\n",
    "#UNION or |\n",
    "\n",
    "set1 = {'a','b','c'}\n",
    "set2 = {1,2,3}\n",
    "set3 = set1.union(set2)\n",
    "set4 = set1 | set2\n",
    "print(set4, ' - |')\n",
    "print(set3, ' -UNION')\n",
    "\n",
    "#UNIR VARIOS CONJUNTOS or |\n",
    "set1 = {'a','b','c'}\n",
    "set2 = {1,2,3}\n",
    "set3 = {'john','elena'}\n",
    "set4 = {'apple','banana','cherry'}\n",
    "myset = set1.union(set2,set3,set4)\n",
    "print(myset, ' - UNION multiples sets')\n",
    "myset = set1 | set2 | set3 | set4\n",
    "print(myset, ' - | multiples sets')\n",
    "\n",
    "# | solo se puede usar entre cojuntos\n",
    "\n",
    "#INTERSECCIÓN\n",
    "\n",
    "set1 = {'apple','banana','cherry'}\n",
    "set2 = {'google','microsoft','apple'}\n",
    "\n",
    "set3 = set1.intersection(set2)\n",
    "print(set3, ' -intersection()')\n",
    "\n",
    "set3 = set1&set2\n",
    "print(set3, ' -& == intersection()')\n",
    "# & solo se usa entre conjuntos\n",
    "\n",
    "set1.intersection_update(set2)\n",
    "print(set1, '  - intersection_update')\n",
    "#conservara solo los duplicados, PERO cambiara el conjuntos original en lugar de devolver un nuevo conjunto\n",
    "\n",
    "#DIFFERENCE or -\n",
    "set1 = {'apple','banana','cherry'}\n",
    "set2 = {'google','microsoft','apple'}\n",
    "set3 = set1.difference(set2)\n",
    "print(set3, ' - difference')\n",
    "set3 = set1-set2\n",
    "print(set3, ' - difference')\n",
    "\n",
    "#DIFFERENCE_UPDATE\n",
    "set1 = {'apple','banana','cherry'}\n",
    "set2 = {'google','microsoft','apple'}\n",
    "set1.difference_update(set2)\n",
    "print(set1, ' - difference_update')\n",
    "\n",
    "#DIFERENCIAS SIMETRICAS or ^ - symetric_difference()\n",
    "set1 = {'apple','banana','cherry'}\n",
    "set2 = {'google','microsoft','apple'}\n",
    "set3 = set1.symmetric_difference(set2)\n",
    "print(set3, ' - symmtric_difference')\n",
    "#      ^\n",
    "set3 = set1^set2\n",
    "print(set3, ' - ^ symmtric_difference')\n",
    "\n",
    "#symmetric_difference_update()\n",
    "set1 = {'apple','banana','cherry'}\n",
    "set2 = {'google','microsoft','apple'}\n",
    "set1.symmetric_difference_update(set2)\n",
    "print(set1, ' - symmetric_difference_update')"
   ]
  },
  {
   "cell_type": "code",
   "execution_count": 96,
   "id": "1133d714-e7d5-4537-bfde-e88294fa7a17",
   "metadata": {},
   "outputs": [
    {
     "name": "stdout",
     "output_type": "stream",
     "text": [
      "True\n",
      "True\n",
      "True\n",
      "True\n",
      "True\n"
     ]
    }
   ],
   "source": [
    "#METODOS DE SET\n",
    "\n",
    "\n",
    "# isdidjoint()\n",
    "\n",
    "x = {'apple','banana','cherry'}\n",
    "y = {'google','microsoft','facebook'}\n",
    "z = x.isdisjoint(y)\n",
    "print(z)\n",
    "\n",
    "# issubset() or <=\n",
    "\n",
    "x = {'a','b','c'}\n",
    "y = {'f', 'e', 'd', 'c', 'b', 'a'}\n",
    "z = x.issubset(y)\n",
    "print(z)\n",
    "p = x<=y\n",
    "print(p)\n",
    "\n",
    "#issupersert () or >=\n",
    "\n",
    "x = {'f', 'e', 'd', 'c', 'b', 'a'}\n",
    "y = {'a','b','c'}\n",
    "\n",
    "z = x.issuperset(y)\n",
    "print(z)\n",
    "\n",
    "p = x >= y\n",
    "\n",
    "print(p)"
   ]
  },
  {
   "cell_type": "code",
   "execution_count": 97,
   "id": "e642283e-7a97-49ea-9825-d78b008472db",
   "metadata": {},
   "outputs": [
    {
     "name": "stdout",
     "output_type": "stream",
     "text": [
      "{'brand': 'ford', 'model': 'mustang', 'year': 1946}\n",
      "ford\n",
      "<class 'dict'>\n"
     ]
    }
   ],
   "source": [
    "#DICCIONARIOS\n",
    "\"\"\"\n",
    "- ORDENADA\n",
    "- MODIFICABLE\n",
    "- NO PERMITE DUPLICADOS\n",
    "- {CLAVE:VALOR}\n",
    "- Pueden ser de cualquier tipo de dato\n",
    "\"\"\"\n",
    "\n",
    "#Crear un diccionario\n",
    "dic = {\n",
    "    'brand':'ford',\n",
    "    'model': 'mustang',\n",
    "    'year': 1946\n",
    "}\n",
    "\n",
    "print(dic)\n",
    "print(dic['brand'])\n",
    "print(type(dic))"
   ]
  },
  {
   "cell_type": "code",
   "execution_count": 98,
   "id": "5c1e2dda-bd5e-4515-b76e-0f64c858d043",
   "metadata": {},
   "outputs": [
    {
     "name": "stdout",
     "output_type": "stream",
     "text": [
      "{'name': 'john', 'age': 36, 'country': 'usa'}\n"
     ]
    }
   ],
   "source": [
    "#constuctor dic()\n",
    "thisdic =  dict(name = 'john', age = 36, country = 'usa')\n",
    "print(thisdic)"
   ]
  },
  {
   "cell_type": "code",
   "execution_count": 99,
   "id": "740684a5-ac22-42ff-9118-bd009f20601d",
   "metadata": {},
   "outputs": [
    {
     "name": "stdout",
     "output_type": "stream",
     "text": [
      "36\n"
     ]
    }
   ],
   "source": [
    "#ACCEDER A ELEMENTOS\n",
    "print(thisdic['age'])"
   ]
  },
  {
   "cell_type": "code",
   "execution_count": 100,
   "id": "5948b929-2a30-49b0-a991-ae77efb2def0",
   "metadata": {},
   "outputs": [
    {
     "name": "stdout",
     "output_type": "stream",
     "text": [
      "36\n"
     ]
    }
   ],
   "source": [
    "# get() - acceder a elementos del diccionario\n",
    "\n",
    "x = thisdic.get('age')\n",
    "print(x)"
   ]
  },
  {
   "cell_type": "code",
   "execution_count": 101,
   "id": "3269eab7-c2a9-480b-a118-8896f4b31717",
   "metadata": {},
   "outputs": [
    {
     "name": "stdout",
     "output_type": "stream",
     "text": [
      "dict_keys(['name', 'age', 'country'])\n"
     ]
    }
   ],
   "source": [
    "#OBTENER LLAVES - keys(): devolvera una lista de todas las claves del diccionario\n",
    "\n",
    "x = thisdic.keys()\n",
    "print(x)\n",
    "\n"
   ]
  },
  {
   "cell_type": "code",
   "execution_count": 102,
   "id": "277a9b4b-f528-4cd0-a9ba-134eeb35d013",
   "metadata": {},
   "outputs": [
    {
     "name": "stdout",
     "output_type": "stream",
     "text": [
      "dict_keys(['brand', 'model', 'year'])\n"
     ]
    }
   ],
   "source": [
    "car = {\n",
    "    'brand':'ford',\n",
    "    'model':'mustang',\n",
    "    'year':1964\n",
    "}\n",
    "\n",
    "x = car.keys()\n",
    "print(x)\n",
    "\n",
    "car['color'] = 'white'"
   ]
  },
  {
   "cell_type": "code",
   "execution_count": 103,
   "id": "5fd2a8ee-9c7f-420d-98df-c48937c9a29c",
   "metadata": {},
   "outputs": [
    {
     "name": "stdout",
     "output_type": "stream",
     "text": [
      "dict_keys(['brand', 'model', 'year', 'color'])\n"
     ]
    }
   ],
   "source": [
    "print(x)"
   ]
  },
  {
   "cell_type": "code",
   "execution_count": 104,
   "id": "bbd8e731-4ad1-4c6e-a34b-b5ad3f5beab7",
   "metadata": {},
   "outputs": [
    {
     "name": "stdout",
     "output_type": "stream",
     "text": [
      "dict_values(['ford', 'mustang', 1964, 'white'])\n"
     ]
    }
   ],
   "source": [
    "#OBTNER VALORES - values(): devolvera una lista de todos los valores del diccionario\n",
    "\n",
    "y = car.values()\n",
    "print(y)"
   ]
  },
  {
   "cell_type": "code",
   "execution_count": 105,
   "id": "fce4f2ce-eaca-4e55-9bf1-5cca2a503eb6",
   "metadata": {},
   "outputs": [
    {
     "name": "stdout",
     "output_type": "stream",
     "text": [
      "1990\n",
      "dict_values(['ford', 'mustang', 1990, 'white'])\n"
     ]
    }
   ],
   "source": [
    "v = car['year'] = 1990\n",
    "print(v)\n",
    "z = car.values()\n",
    "print(z)"
   ]
  },
  {
   "cell_type": "code",
   "execution_count": 106,
   "id": "122f876b-bc8e-4952-b0c1-cdd0f3c8a3dc",
   "metadata": {},
   "outputs": [
    {
     "name": "stdout",
     "output_type": "stream",
     "text": [
      "{'brand': 'ford', 'model': 'mustang', 'year': 1990, 'color': 'red'}\n"
     ]
    }
   ],
   "source": [
    "x1 = car['color'] = 'red'\n",
    "print(car)"
   ]
  },
  {
   "cell_type": "code",
   "execution_count": 107,
   "id": "afefaed1-988a-4762-b7c0-98d7201480ca",
   "metadata": {},
   "outputs": [
    {
     "name": "stdout",
     "output_type": "stream",
     "text": [
      "dict_items([('brand', 'ford'), ('model', 'mustang'), ('year', 1990), ('color', 'red')])\n"
     ]
    }
   ],
   "source": [
    "#OBTENER ARTICULOS - items(): devolvera cada elemento de un diciionario, como TUPLAS en una lista\n",
    "x = car.items()\n",
    "print(x)"
   ]
  },
  {
   "cell_type": "code",
   "execution_count": 108,
   "id": "d801a04e-b397-4842-91fd-fba4f34a30a2",
   "metadata": {},
   "outputs": [
    {
     "name": "stdout",
     "output_type": "stream",
     "text": [
      "yes\n"
     ]
    }
   ],
   "source": [
    "#COMPROBAR SI EXISTE LA CLAVE\n",
    "if 'model' in car:\n",
    "    print('yes')"
   ]
  },
  {
   "cell_type": "code",
   "execution_count": 109,
   "id": "9489e2c7-792c-4a01-b485-bde0883ca346",
   "metadata": {},
   "outputs": [
    {
     "name": "stdout",
     "output_type": "stream",
     "text": [
      "{'brand': 'ford', 'model': 'mustang', 'year': 2025, 'color': 'red'}\n"
     ]
    }
   ],
   "source": [
    "#ACTUALIZAR DICCIONARIOS - update(): metodo utilizara el diccionario con los elementos del argumento dado\n",
    "\n",
    "car.update({'year':2025})\n",
    "print(car)"
   ]
  },
  {
   "cell_type": "code",
   "execution_count": 110,
   "id": "8cbd076f-308e-4bd8-845e-b496ed0f3d70",
   "metadata": {},
   "outputs": [
    {
     "name": "stdout",
     "output_type": "stream",
     "text": [
      "{'brand': 'ford', 'model': 'mustang', 'color': 'red'}\n"
     ]
    }
   ],
   "source": [
    "#ELIMINAR ELEMENTOS DEL DICCIONARIO - pop(): elimina el elemento con el nombre de clave especiificado\n",
    "car.pop(\"year\")\n",
    "print(car)"
   ]
  },
  {
   "cell_type": "code",
   "execution_count": 111,
   "id": "6bfca0f7-6729-4fa2-9580-eb9db9e2ca37",
   "metadata": {},
   "outputs": [
    {
     "name": "stdout",
     "output_type": "stream",
     "text": [
      "{'brand': 'ford', 'model': 'mustang'}\n"
     ]
    }
   ],
   "source": [
    "car.popitem()\n",
    "print(car)"
   ]
  },
  {
   "cell_type": "code",
   "execution_count": 112,
   "id": "d86ca28e-186f-4f9f-a28f-f6290a6af26c",
   "metadata": {},
   "outputs": [
    {
     "name": "stdout",
     "output_type": "stream",
     "text": [
      "{'model': 'mustang'}\n"
     ]
    }
   ],
   "source": [
    "del car['brand']\n",
    "print(car)"
   ]
  },
  {
   "cell_type": "code",
   "execution_count": 113,
   "id": "7e2c8657-9026-4117-8ced-a9235146b698",
   "metadata": {},
   "outputs": [
    {
     "name": "stdout",
     "output_type": "stream",
     "text": [
      "name\n",
      "team\n",
      "age\n",
      "height\n"
     ]
    }
   ],
   "source": [
    "#DICCIONARIOS DE BUCLES\n",
    "\n",
    "carsf1 = {\n",
    "    'name':'checo',\n",
    "    'team': 'cadilac',\n",
    "    'age': 32,\n",
    "    'height': 1.70\n",
    "}\n",
    "\n",
    "for x in carsf1:\n",
    "    print(x)"
   ]
  },
  {
   "cell_type": "code",
   "execution_count": 114,
   "id": "9a5991e2-97c3-4a9e-aa14-602a0bfacfbf",
   "metadata": {},
   "outputs": [
    {
     "name": "stdout",
     "output_type": "stream",
     "text": [
      "checo\n",
      "cadilac\n",
      "32\n",
      "1.7\n"
     ]
    }
   ],
   "source": [
    "for x in carsf1:\n",
    "    print(carsf1[x])"
   ]
  },
  {
   "cell_type": "code",
   "execution_count": 115,
   "id": "c0a3d973-47db-4445-b696-6707a256bc67",
   "metadata": {},
   "outputs": [
    {
     "name": "stdout",
     "output_type": "stream",
     "text": [
      "checo\n",
      "cadilac\n",
      "32\n",
      "1.7\n"
     ]
    }
   ],
   "source": [
    "#usnado values()\n",
    "\n",
    "for x in carsf1.values():\n",
    "    print(x)"
   ]
  },
  {
   "cell_type": "code",
   "execution_count": 116,
   "id": "4c2aabcc-ef5f-44a8-b62a-76f9f2a7e216",
   "metadata": {},
   "outputs": [
    {
     "name": "stdout",
     "output_type": "stream",
     "text": [
      "name\n",
      "team\n",
      "age\n",
      "height\n"
     ]
    }
   ],
   "source": [
    "#keys()\n",
    "for x in carsf1.keys():\n",
    "    print(x)"
   ]
  },
  {
   "cell_type": "code",
   "execution_count": 117,
   "id": "9afca249-50a5-41ad-803d-c5be8caede16",
   "metadata": {},
   "outputs": [
    {
     "name": "stdout",
     "output_type": "stream",
     "text": [
      "('name', 'checo')\n",
      "('team', 'cadilac')\n",
      "('age', 32)\n",
      "('height', 1.7)\n"
     ]
    }
   ],
   "source": [
    "#items()\n",
    "for x in carsf1.items():\n",
    "    print(x)"
   ]
  },
  {
   "cell_type": "code",
   "execution_count": 118,
   "id": "b64bad7c-1b01-4a22-b2e6-028754db2f43",
   "metadata": {},
   "outputs": [
    {
     "name": "stdout",
     "output_type": "stream",
     "text": [
      "{'name': 'checo', 'team': 'cadilac', 'age': 32, 'height': 1.7}\n"
     ]
    }
   ],
   "source": [
    "#COPIAR DICCIONARIOS\n",
    "\n",
    "new = carsf1.copy()\n",
    "print(new)"
   ]
  },
  {
   "cell_type": "code",
   "execution_count": 119,
   "id": "64c6dfc9-2655-4365-bf4d-0aa1504b2aa5",
   "metadata": {},
   "outputs": [
    {
     "name": "stdout",
     "output_type": "stream",
     "text": [
      "{'child1': {'name': 'emil', 'year': 2004}, 'child2': {'name': 'tobias', 'year': 2007}, 'child3': {'name': 'linus', 'year': 2011}}\n"
     ]
    }
   ],
   "source": [
    "#DICCIONARIOS ANIDADOS\n",
    "myfamily = {\n",
    "    'child1':{\n",
    "        'name':'emil',\n",
    "        'year':2004\n",
    "    },\n",
    "    'child2':{\n",
    "        'name':'tobias',\n",
    "        'year':2007\n",
    "    },\n",
    "    'child3':{\n",
    "        'name':'linus',\n",
    "        'year':2011\n",
    "    }\n",
    "}\n",
    "print(myfamily)"
   ]
  },
  {
   "cell_type": "code",
   "execution_count": 120,
   "id": "06a349ca-13a8-48d4-ac24-2c9bcfe403d2",
   "metadata": {},
   "outputs": [
    {
     "name": "stdout",
     "output_type": "stream",
     "text": [
      "{'child1': {'name': 'emil', 'year': 2004}, 'child2': {'name': 'tobias', 'year': 2007}, 'child3': {'name': 'linus', 'year': 2011}}\n"
     ]
    }
   ],
   "source": [
    "child1 = {\n",
    "        'name':'emil',\n",
    "        'year':2004\n",
    "    }\n",
    "child2 = {\n",
    "        'name':'tobias',\n",
    "        'year':2007\n",
    "    }\n",
    "child3 = {\n",
    "        'name':'linus',\n",
    "        'year':2011\n",
    "    }\n",
    "\n",
    "myfam = {\n",
    "    'child1': child1,\n",
    "    'child2': child2,\n",
    "    'child3': child3\n",
    "     \n",
    "}\n",
    "print(myfam)"
   ]
  },
  {
   "cell_type": "code",
   "execution_count": 121,
   "id": "715f2f8f-6c2c-45cb-8020-16076aaa44eb",
   "metadata": {},
   "outputs": [
    {
     "name": "stdout",
     "output_type": "stream",
     "text": [
      "2007\n"
     ]
    }
   ],
   "source": [
    "#ACCEDER A LOS ELEMENTOS DE DICCIONARIOS ANIDADOS\n",
    "\n",
    "#para accceder a los elementos utilice el nombre de los diccionarios, comenzando con el diccionario externo\n",
    "\n",
    "print(myfam['child2']['year'])\n",
    "# print(dic, ext [dic. interno][clave])"
   ]
  },
  {
   "cell_type": "code",
   "execution_count": 122,
   "id": "1ce1e391-bb75-4dc4-98db-e10390b8833d",
   "metadata": {},
   "outputs": [
    {
     "name": "stdout",
     "output_type": "stream",
     "text": [
      "child1\n",
      "name: emil\n",
      "year: 2004\n",
      "child2\n",
      "name: tobias\n",
      "year: 2007\n",
      "child3\n",
      "name: linus\n",
      "year: 2011\n"
     ]
    }
   ],
   "source": [
    "#RECORRER DICCIONARIOS ANIDADOS - items()\n",
    "\n",
    "for x, obj in myfam.items():\n",
    "    print(x)\n",
    "    for y in obj:\n",
    "        print(y + ':', obj[y])"
   ]
  },
  {
   "cell_type": "code",
   "execution_count": 123,
   "id": "58adc902-6af1-46a8-b539-07afb5643739",
   "metadata": {},
   "outputs": [
    {
     "name": "stdout",
     "output_type": "stream",
     "text": [
      "{'key1': 0, 'key2': 0, 'key3': 0}  -fromkeys\n"
     ]
    }
   ],
   "source": [
    "#METODOS DE UN DICCIONARIO\n",
    "\n",
    "#.fromkeys(): devuelve un diccionario con las claves especificadas y valor especificado\n",
    "\n",
    "x = ('key1', 'key2', 'key3')\n",
    "y = 0\n",
    "thisdic = dict.fromkeys(x,y)\n",
    "print(thisdic, ' -fromkeys')\n"
   ]
  },
  {
   "cell_type": "code",
   "execution_count": 124,
   "id": "4d3f7aa1-1556-4931-b377-8666cd69c8ec",
   "metadata": {},
   "outputs": [
    {
     "name": "stdout",
     "output_type": "stream",
     "text": [
      "b i sgreater than a\n"
     ]
    }
   ],
   "source": [
    "#IF  AND IF-ELSE\n",
    "\n",
    "a = 33\n",
    "b = 200\n",
    "if b > a:\n",
    "    print('b i sgreater than a')"
   ]
  },
  {
   "cell_type": "code",
   "execution_count": 125,
   "id": "ab2db8b9-2ec2-49cc-98bf-25404742c527",
   "metadata": {},
   "outputs": [
    {
     "name": "stdout",
     "output_type": "stream",
     "text": [
      "a and b are equal\n"
     ]
    }
   ],
   "source": [
    "#ELIF\n",
    "\n",
    "\"\"\"\n",
    "La palabra clave elif es la forma que tiene python de decir \"si las condiciones anteriores no eran verdaderas,\n",
    "entonces prueba esta condicion\"\n",
    "\"\"\"\n",
    "a = 33\n",
    "b = 33\n",
    "if b > a:\n",
    "    print('b i sgreater than a')\n",
    "elif a == b:\n",
    "    print('a and b are equal')"
   ]
  },
  {
   "cell_type": "code",
   "execution_count": 126,
   "id": "504b4388-4561-4c25-936b-0afe357be361",
   "metadata": {},
   "outputs": [
    {
     "name": "stdout",
     "output_type": "stream",
     "text": [
      "a is greater than b\n"
     ]
    }
   ],
   "source": [
    "#ELSE \n",
    "\n",
    "\"\"\"\n",
    "captura cualquier cosa que no este capturada por las condiciones anteriores\n",
    "\"\"\"\n",
    "\n",
    "a = 200\n",
    "b = 33\n",
    "if b > a:\n",
    "    print('b i sgreater than a')\n",
    "elif a == b:\n",
    "    print('a and b are equal')\n",
    "else:\n",
    "    print('a is greater than b')\n",
    "#tambien se puede tener un else sin elif"
   ]
  },
  {
   "cell_type": "code",
   "execution_count": 127,
   "id": "156b6201-0fbc-457d-9b19-ada03282966b",
   "metadata": {},
   "outputs": [
    {
     "name": "stdout",
     "output_type": "stream",
     "text": [
      "a is greter than b\n"
     ]
    }
   ],
   "source": [
    "#forma corta\n",
    "if a > b: print('a is greter than b')"
   ]
  },
  {
   "cell_type": "code",
   "execution_count": 128,
   "id": "1ed412f2-447b-4535-8d53-b18696073a6e",
   "metadata": {},
   "outputs": [
    {
     "name": "stdout",
     "output_type": "stream",
     "text": [
      "B\n"
     ]
    }
   ],
   "source": [
    "#Abreviatura IF - ELSE\n",
    "a = 2\n",
    "b = 330\n",
    "print('A') if a > b else print('B')\n",
    "\n",
    "#esta tecnica se conoce como operadores ternarios o expresiones condicionales"
   ]
  },
  {
   "cell_type": "code",
   "execution_count": 129,
   "id": "91a516b4-8297-49c7-9415-a62ea2e5f208",
   "metadata": {},
   "outputs": [
    {
     "name": "stdout",
     "output_type": "stream",
     "text": [
      "=\n"
     ]
    }
   ],
   "source": [
    "#variod if - else en una linea\n",
    "a = 330\n",
    "b = 330\n",
    "print('A') if a > b else print('=') if a == b else print('B')"
   ]
  },
  {
   "cell_type": "code",
   "execution_count": 130,
   "id": "4afba18c-2219-4a40-9bd4-b7cd002092b9",
   "metadata": {},
   "outputs": [
    {
     "name": "stdout",
     "output_type": "stream",
     "text": [
      "both conditions are True\n"
     ]
    }
   ],
   "source": [
    "#AND : Se usa para combinar declaraciones\n",
    "\n",
    "a = 200\n",
    "b = 33\n",
    "c = 500\n",
    "if a > b and c > a:\n",
    "    print('both conditions are True')"
   ]
  },
  {
   "cell_type": "code",
   "execution_count": 131,
   "id": "1c26c0fe-8e4c-442d-9f72-1dfdd643282a",
   "metadata": {},
   "outputs": [
    {
     "name": "stdout",
     "output_type": "stream",
     "text": [
      "at least one of the condition is true\n"
     ]
    }
   ],
   "source": [
    "#OR: Se utiliza para combinar declaraciones condicionales\n",
    "a = 200\n",
    "b = 33\n",
    "c = 500\n",
    "if a > b or a > c:\n",
    "    print('at least one of the condition is true')"
   ]
  },
  {
   "cell_type": "code",
   "execution_count": 132,
   "id": "8f385d81-ca68-485f-aea7-48cb19cc9882",
   "metadata": {},
   "outputs": [
    {
     "name": "stdout",
     "output_type": "stream",
     "text": [
      "a is not greater than b\n"
     ]
    }
   ],
   "source": [
    "#NOT: Se utiliza para revertir el resultado de  la delcaracion condicional\n",
    "a = 33\n",
    "b = 200\n",
    "if not a > b:\n",
    "    print('a is not greater than b')"
   ]
  },
  {
   "cell_type": "code",
   "execution_count": 133,
   "id": "aeb32fe8-db2c-41a7-b9bb-a22b92593426",
   "metadata": {},
   "outputs": [
    {
     "name": "stdout",
     "output_type": "stream",
     "text": [
      "above ten,\n",
      "and also above 20!\n"
     ]
    }
   ],
   "source": [
    "# IF ANIDADOS \n",
    "\n",
    "x = 41\n",
    "if x > 10:\n",
    "    print('above ten,')\n",
    "    if x > 20:\n",
    "        print('and also above 20!')\n",
    "    else:\n",
    "        print('but not above 20.')"
   ]
  },
  {
   "cell_type": "code",
   "execution_count": 134,
   "id": "45f522ea-f194-4832-9ac6-a149b3a5c785",
   "metadata": {},
   "outputs": [],
   "source": [
    "# LA DECLARACION DE PASE  - pass\n",
    "\n",
    "\"\"\"\n",
    "If declaraciones no pueden estar vacias, pero si por alguna razon tiene una if declaracion sin contenido,\n",
    "coloque la pass declaracion para evitar obtener un error \n",
    "\"\"\"\n",
    "\n",
    "a = 33\n",
    "b = 200\n",
    "if b > a:\n",
    "    pass"
   ]
  },
  {
   "cell_type": "code",
   "execution_count": 135,
   "id": "331fda72-1f4c-40fc-93fd-1d87762cd096",
   "metadata": {},
   "outputs": [
    {
     "name": "stdout",
     "output_type": "stream",
     "text": [
      "1\n",
      "2\n",
      "3\n",
      "4\n",
      "5\n"
     ]
    }
   ],
   "source": [
    "#BUCLES WHILE : con el while podemos ejecutar un conjunto de sentencias siempre que una condicion sea verdadera\n",
    "\n",
    "# imprima i siempre que i sea menor que 6\n",
    "i = 1 #while requiere variables relevanes esten listas\n",
    "while i < 6:\n",
    "    print(i)\n",
    "    i += 1 # siempre incrementar i o el bucle continuara para siempre\n",
    "\n",
    "# i = varaible de indexacion"
   ]
  },
  {
   "cell_type": "code",
   "execution_count": 136,
   "id": "d005fd6c-0e53-448f-b654-535c1a2c6352",
   "metadata": {},
   "outputs": [
    {
     "name": "stdout",
     "output_type": "stream",
     "text": [
      "1\n",
      "2\n",
      "3\n"
     ]
    }
   ],
   "source": [
    "#LA DECLARACION DE RUPTURA -  break: podemos detener el bucle incluso si la condicion while es VERDADERA\n",
    "\n",
    "#Salir del bucle cuando i es 3\n",
    "i = 1\n",
    "while i < 6:\n",
    "    print(i)\n",
    "    if i == 3:\n",
    "        break\n",
    "    i += 1"
   ]
  },
  {
   "cell_type": "code",
   "execution_count": 137,
   "id": "3c624409-b276-4c12-b692-e86fa0b101f9",
   "metadata": {},
   "outputs": [
    {
     "name": "stdout",
     "output_type": "stream",
     "text": [
      "1\n",
      "2\n",
      "4\n",
      "5\n",
      "6\n"
     ]
    }
   ],
   "source": [
    "#LA DECLARACION CONTINUA - continue: podemos detener la iteracion actual y continuar con la siguiente \n",
    "i = 0\n",
    "while i < 6:\n",
    "    i += 1\n",
    "    if i == 3:\n",
    "        continue\n",
    "    print(i)\n",
    "        "
   ]
  },
  {
   "cell_type": "code",
   "execution_count": 138,
   "id": "8691da91-8229-464f-8660-8d496d3ca46a",
   "metadata": {},
   "outputs": [
    {
     "name": "stdout",
     "output_type": "stream",
     "text": [
      "1\n",
      "2\n",
      "3\n",
      "4\n",
      "5\n",
      "i is no longer less than 6\n"
     ]
    }
   ],
   "source": [
    "#LA DECLARACION ELSE : podemos ejecutar un bloque de codigo una vez cuando la condicion ya no sea verdadera\n",
    "i = 1\n",
    "while i < 6:\n",
    "    print(i)\n",
    "    i += 1\n",
    "else:\n",
    "    print('i is no longer less than 6')"
   ]
  },
  {
   "cell_type": "code",
   "execution_count": 142,
   "id": "bc69bec1-d949-4d4c-b4d4-6f39f0e1fe63",
   "metadata": {},
   "outputs": [
    {
     "name": "stdout",
     "output_type": "stream",
     "text": [
      "appel\n",
      "banana\n",
      "cherry\n"
     ]
    }
   ],
   "source": [
    "#FOR \n",
    "\"\"\"\n",
    "for es usado para iterar sobre una secuencia, podemos ejecutar un conjunto de sentencias.\n",
    "\"\"\"\n",
    "\n",
    "fruits = ['appel','banana','cherry']\n",
    "for x in fruits:\n",
    " print(x)"
   ]
  },
  {
   "cell_type": "code",
   "execution_count": 143,
   "id": "22bea33b-a268-43de-8098-2fd7e543d387",
   "metadata": {},
   "outputs": [
    {
     "name": "stdout",
     "output_type": "stream",
     "text": [
      "b\n",
      "a\n",
      "n\n",
      "a\n",
      "n\n",
      "a\n"
     ]
    }
   ],
   "source": [
    "#recorriendo un string\n",
    "\n",
    "for x in 'banana':\n",
    "    print(x)"
   ]
  },
  {
   "cell_type": "code",
   "execution_count": 145,
   "id": "aeea5ab1-bbb8-4894-902d-833edcf75a3c",
   "metadata": {},
   "outputs": [
    {
     "name": "stdout",
     "output_type": "stream",
     "text": [
      "appel\n",
      "banana\n"
     ]
    }
   ],
   "source": [
    "#Declaracion de ruptura - break\n",
    "\n",
    "fruits = ['appel','banana','cherry']\n",
    "for x in fruits:\n",
    "    print(x)\n",
    "    if x == 'banana':\n",
    "     break"
   ]
  },
  {
   "cell_type": "code",
   "execution_count": 147,
   "id": "59e8e5d4-e69e-449c-a2fa-ed52c954a69c",
   "metadata": {},
   "outputs": [
    {
     "name": "stdout",
     "output_type": "stream",
     "text": [
      "appel\n"
     ]
    }
   ],
   "source": [
    "#Salir del bucle cuando x es bana, pero esta vez el salto viene antes de la impresion\n",
    "fruits = ['appel','banana','cherry']\n",
    "for x in fruits:\n",
    "    if x == 'banana':\n",
    "      break\n",
    "    print(x)"
   ]
  },
  {
   "cell_type": "code",
   "execution_count": 148,
   "id": "17543d5f-6912-4b05-93d3-0851812bdb33",
   "metadata": {},
   "outputs": [
    {
     "name": "stdout",
     "output_type": "stream",
     "text": [
      "appel\n",
      "cherry\n"
     ]
    }
   ],
   "source": [
    "#Declaracion continua - continue\n",
    "\n",
    "#no imprimir platano\n",
    "fruits = ['appel','banana','cherry']\n",
    "for x in fruits:\n",
    "    if x =='banana':\n",
    "        continue\n",
    "    print(x)"
   ]
  },
  {
   "cell_type": "code",
   "execution_count": 152,
   "id": "216cfafa-f606-493a-a473-048a010735af",
   "metadata": {},
   "outputs": [
    {
     "name": "stdout",
     "output_type": "stream",
     "text": [
      "11\n",
      "14\n",
      "17\n",
      "20\n",
      "23\n"
     ]
    }
   ],
   "source": [
    "#La funcion range - range()\n",
    "\n",
    "\"\"\"\n",
    "Para recorrer un conjunto de codigo una cantidad especifica de veces, podemos usar la funcion range()\n",
    "Esta devuelve una secuencia de numeros, comezando desde 0 por defecto y se incrementa en 1 (por defecto) y \n",
    "finaliza en un numero especificado\n",
    "\"\"\"\n",
    "for x in range(11,25,3):\n",
    "    #    range(start, end(no incluye),step)\n",
    "    print(x)"
   ]
  },
  {
   "cell_type": "code",
   "execution_count": 154,
   "id": "57794a9c-c7a6-4bcc-863b-e5031aa9dc45",
   "metadata": {},
   "outputs": [
    {
     "name": "stdout",
     "output_type": "stream",
     "text": [
      "0\n",
      "1\n",
      "2\n",
      "3\n",
      "4\n",
      "5\n",
      "6\n",
      "7\n",
      "8\n",
      "9\n",
      "10\n",
      "finally finished!\n"
     ]
    }
   ],
   "source": [
    "#La else palabra clave en un for bucle especifica un bloque de codigo que se jecutara cuando finalice el bucle\n",
    "for x in range(11):\n",
    "    print(x)\n",
    "else: # este no se ejecuta si el bucle se deteine mediante un \"break\" \n",
    "    print('finally finished!')\n",
    "    "
   ]
  },
  {
   "cell_type": "code",
   "execution_count": 155,
   "id": "519dc0a3-9085-4a81-8c3f-b25471f8a191",
   "metadata": {},
   "outputs": [
    {
     "name": "stdout",
     "output_type": "stream",
     "text": [
      "0\n",
      "1\n",
      "2\n"
     ]
    }
   ],
   "source": [
    "#Rompe el bucle cuando x es 3 y observa que sucede con el bloque else\n",
    "for x in range(11):\n",
    "    if x == 3: break\n",
    "    print(x)\n",
    "else: \n",
    "    print('finally finished!')\n",
    "    "
   ]
  },
  {
   "cell_type": "code",
   "execution_count": 156,
   "id": "d400c091-d046-4d42-a5ed-4f56c4c87e81",
   "metadata": {},
   "outputs": [
    {
     "name": "stdout",
     "output_type": "stream",
     "text": [
      "red apple\n",
      "red banana\n",
      "red cherry\n",
      "big apple\n",
      "big banana\n",
      "big cherry\n",
      "tasty apple\n",
      "tasty banana\n",
      "tasty cherry\n"
     ]
    }
   ],
   "source": [
    "#BUCLES ANIDADOS\n",
    "\n",
    "#El bucle interno se ejecutara una vez por cada iteracion del \"bucle externo\"\n",
    "\n",
    "#Imprime cada adjetivo para cada fruta:\n",
    "adj = ['red','big','tasty']\n",
    "fruits =['apple','banana','cherry']\n",
    "\n",
    "for x in adj:\n",
    "    for y in fruits:\n",
    "        print(x,y)"
   ]
  },
  {
   "cell_type": "code",
   "execution_count": 157,
   "id": "2c804c9a-e26e-4d70-add1-be7ac58df2be",
   "metadata": {},
   "outputs": [],
   "source": [
    "#LA DECLARACION DE PASE - pass\n",
    "\n",
    "\"\"\"\n",
    "los bucles for no pueden estar vacios, pero si hay algun bucle for sin contenido, ponlo en la pass declaracion para evitar tener un error\n",
    "\"\"\"\n",
    "for x in [0,1,2]:\n",
    "    pass"
   ]
  },
  {
   "cell_type": "code",
   "execution_count": null,
   "id": "fca91ba7-6b2f-4568-a77e-628a526e6b20",
   "metadata": {},
   "outputs": [],
   "source": []
  }
 ],
 "metadata": {
  "kernelspec": {
   "display_name": "Python 3 (ipykernel)",
   "language": "python",
   "name": "python3"
  },
  "language_info": {
   "codemirror_mode": {
    "name": "ipython",
    "version": 3
   },
   "file_extension": ".py",
   "mimetype": "text/x-python",
   "name": "python",
   "nbconvert_exporter": "python",
   "pygments_lexer": "ipython3",
   "version": "3.12.2"
  }
 },
 "nbformat": 4,
 "nbformat_minor": 5
}
